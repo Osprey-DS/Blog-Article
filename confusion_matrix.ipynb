{
  "nbformat": 4,
  "nbformat_minor": 0,
  "metadata": {
    "colab": {
      "name": "confusion matrix.ipynb",
      "provenance": []
    },
    "kernelspec": {
      "name": "python3",
      "display_name": "Python 3"
    },
    "language_info": {
      "name": "python"
    }
  },
  "cells": [
    {
      "cell_type": "code",
      "metadata": {
        "id": "7e2y8-N5jNTb"
      },
      "source": [
        "#Create a confusion matrix fuction\n",
        "\n",
        "def confusion_matrix(y_true, y_pred, classes=None, figsize=(10,10), text_size=15):\n",
        "  '''\n",
        "  ===============================================================================================================================\n",
        "  ::\n",
        "  If creating confusion matrix for binary model(0 and 1) the pass only y_true and y_pred. leave the `classe` argument.\n",
        "  Please calculate the prediction before passing to the function.\n",
        "  If the output is prddiction probability(like 'sigmoid function does) then use round() function before passing it to the function.\n",
        "  ::\n",
        "  If creating confusion matricx for multiclass then pass the classes as the list of class name.\n",
        "  Remember the class list index have to match with your prediction call result.\n",
        "  :: e.g. > class_list = ['A', 'B', 'C', 'D'] \n",
        "          Now if our model give us the output of 1 then the final result will be 'B' as 'B' is 2nd index of our above class_list.\n",
        "\n",
        "          ::>>\n",
        "          the function will give us >> class_list[1] \n",
        "                                    >> 'B'\n",
        "\n",
        "      Create a list for your class and then pass the list in to the function 'classes' argument.\n",
        "     ..............................................................................................\n",
        "  :: Remember classes doesn't matter for this function. \n",
        "\n",
        "     This function can work with any model or classifier as long you can pass 'y_true' and 'y_pred'\n",
        "     ..............................................................................................\n",
        "  ================================================================================================================================\n",
        "  '''\n",
        "  import itertools\n",
        "  import numpy as np\n",
        "  from sklearn.metrics import confusion_matrix\n",
        "  import matplotlib.pyplot as plt\n",
        "  #create a confusion matrix\n",
        "  cm = confusion_matrix(y_true, y_pred)\n",
        "  cm_norm = cm.astype('float') / cm.sum(axis=1)[:, np.newaxis] #normalize our confusion matrix\n",
        "  n_class = cm.shape[0]\n",
        "  fig, ax = plt.subplots(figsize=figsize)\n",
        "  #create matrix plot\n",
        "  cax = ax.matshow(cm, cmap=plt.cm.Blues)\n",
        "  fig.colorbar(cax)\n",
        "\n",
        "  # #create classes\n",
        "  # classes = False\n",
        "\n",
        "  #Set the labels to be class\n",
        "  if classes:\n",
        "    labels = classes\n",
        "  else:\n",
        "    labels = np.arange(cm.shape[0])\n",
        "\n",
        "\n",
        "  #label the axis\n",
        "  ax.set(title='Confusion Matrix',\n",
        "        xlabel='Prediction Label',\n",
        "        ylabel='Actual label',\n",
        "        xticks=np.arange(n_class),\n",
        "        yticks=np.arange(n_class),\n",
        "        xticklabels=labels,\n",
        "        yticklabels=labels)\n",
        "\n",
        "  #set X-axis labels to the bottom\n",
        "  ax.xaxis.set_label_position('bottom')\n",
        "  ax.xaxis.tick_bottom()\n",
        "\n",
        "  #adjust the label size\n",
        "  ax.yaxis.label.set_size(20)\n",
        "  ax.xaxis.label.set_size(20)\n",
        "  ax.title.set_size(22)\n",
        "\n",
        "\n",
        "  #set the threshold for different color\n",
        "\n",
        "  threshold  = (cm.max() + cm.min()) / 2.\n",
        "\n",
        "  #plot the text on each cell\n",
        "  for i,j in itertools.product(range(cm.shape[0]), range(cm.shape[1])):\n",
        "    plt.text(j,i, f'{cm[i,j]} ({cm_norm[i,j]*100:.2f}%)',\n",
        "                        horizontalalignment='center',\n",
        "                        color='white' if cm[i,j]>threshold else 'black',\n",
        "                          size=text_size)"
      ],
      "execution_count": 11,
      "outputs": []
    },
    {
      "cell_type": "code",
      "metadata": {
        "id": "Kk4lqDJmjdWm"
      },
      "source": [
        ""
      ],
      "execution_count": null,
      "outputs": []
    }
  ]
}